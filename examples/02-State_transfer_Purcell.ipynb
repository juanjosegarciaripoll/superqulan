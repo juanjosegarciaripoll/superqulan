{
 "cells": [
  {
   "cell_type": "markdown",
   "metadata": {},
   "source": [
    "# State transfer with filters"
   ]
  },
  {
   "cell_type": "markdown",
   "metadata": {},
   "source": [
    "This notebook analyzes the state transfer protocols from [Guillermo F. Peñas et al (2021)](https://journals.aps.org/prapplied/abstract/10.1103/PhysRevApplied.17.054038), extending them to work with Purcell filters. The presence of the filter changes the shape of the ideal controls.\n",
    "\n",
    "The notebook illustrates the following aspects from the library:\n",
    "\n",
    "1. Creation of a model class that describes the ETH setup with two cavities, two Purcell filters and two qubits.\n",
    "2. Creation of initial conditions for the simulation, with a single excited qubit.\n",
    "3. Simulation of the evolution of the link, as we switch on and off the coupling of both qubits.\n",
    "4. Comparing the performances of state transfer of two possible qubit-cavity controls, designed with- and without Purcell filters."
   ]
  },
  {
   "cell_type": "markdown",
   "metadata": {},
   "source": [
    "## Setup"
   ]
  },
  {
   "cell_type": "markdown",
   "metadata": {},
   "source": [
    "While the SuperQuLAN library can be installed, this notebook only assumes that it resides inside the `examples` folder and that the library is located under `../superqulan`."
   ]
  },
  {
   "cell_type": "code",
   "execution_count": 1,
   "metadata": {},
   "outputs": [],
   "source": [
    "import sys\n",
    "if \"../\" not in sys.path:\n",
    "    sys.path = [\"../\"] + sys.path"
   ]
  },
  {
   "cell_type": "code",
   "execution_count": 2,
   "metadata": {},
   "outputs": [],
   "source": [
    "import numpy as np \n",
    "from math import pi as π\n",
    "from superqulan.waveguide import Waveguide\n",
    "from superqulan.simulator import Trotter_solver_dynamics\n",
    "from superqulan.architecture import Exp_2qubits_2cavities_2purcells"
   ]
  },
  {
   "cell_type": "code",
   "execution_count": 3,
   "metadata": {},
   "outputs": [],
   "source": [
    "import matplotlib\n",
    "import matplotlib.pyplot as plt\n",
    "matplotlib.use('agg')\n",
    "plt.rc('font', size=20)"
   ]
  },
  {
   "cell_type": "markdown",
   "metadata": {},
   "source": [
    "## Control design"
   ]
  },
  {
   "cell_type": "markdown",
   "metadata": {},
   "source": [
    "### Qubit-cavity-link setup"
   ]
  },
  {
   "cell_type": "markdown",
   "metadata": {},
   "source": [
    "If we considered a system consisting of just an emitter, a resonator and a decay channel, it can be modeled as a two-level system, with the only excitation residing in the qubit, in the cavity or moving away in the waveguide:\n",
    "\\begin{align}\n",
    "    \\dot{q}(t)&=-i g(t) c(t)\\\\\n",
    "    \\dot{c}(t)&=-i g(t) q(t)-\\frac{\\kappa}{2}c(t),\n",
    "\\end{align}\n",
    "This last case is modeled using input-output theory by means of the cavity decay rate into the waveguide $\\kappa$."
   ]
  },
  {
   "cell_type": "markdown",
   "metadata": {},
   "source": [
    "Our goal is to produce an outgoing wavepacket of the form\n",
    "\\begin{align}\n",
    "    \\psi(t)=-\\sqrt{\\kappa/4}{\\rm sech}(\\kappa t/2).\n",
    "\\end{align}"
   ]
  },
  {
   "cell_type": "markdown",
   "metadata": {},
   "source": [
    "Using input-output theory this can be achieved exactly by the control\n",
    "$$ g(t) = \\frac{\\kappa}{2} \\text{sech}\\left(\\kappa t /2\\right) $$"
   ]
  },
  {
   "cell_type": "code",
   "execution_count": 4,
   "metadata": {},
   "outputs": [],
   "source": [
    "def gt_sech(t, κ = 2*π*20e-3 ):\n",
    "    return κ / 2 / np.cosh(κ*t/2)"
   ]
  },
  {
   "cell_type": "markdown",
   "metadata": {},
   "source": [
    "### Qubit-cavity-filter-link setup"
   ]
  },
  {
   "cell_type": "markdown",
   "metadata": {},
   "source": [
    "If instead one considers that there is a Purcell filter in between the resonator and the waveguide as it is the case in the ETH setup, the dynamical equations are slightly different\n",
    "\\begin{align}\n",
    "    \\dot{q}(t)&=-ig(t) c(t)\\\\\n",
    "    \\dot{c}(t)&=-ig(t) q(t) -ig_p b(t)\\\\\n",
    "    \\dot{b}(t)&=-ig_p c(t)-\\kappa/2 b(t).\n",
    "\\end{align}\n",
    "Now the outgoing photon is controled by the amplitude of the wavefunction in the Purcell filter $b(t)$."
   ]
  },
  {
   "cell_type": "markdown",
   "metadata": {},
   "source": [
    "Using input-output theory we once more find that the control that produces a sech-pulse photon has an analytical solution of the form\n",
    "\\begin{align}\n",
    "    g(t)=\\frac{{\\rm sech}^3(\\kappa t/(2\\eta))\\left(4g_p^2\\eta^2-3\\kappa^2+(4g_p^2\\eta^2+\\kappa^2)\\cosh(\\kappa t/\\eta)-\\eta\\kappa^2\\sinh(\\kappa t/\\eta) \\right)}{4\\eta\\left(\\kappa^2{\\rm sech}^4(\\kappa t/(2\\eta))-8 g_p^2\\eta^3(\\tanh(\\kappa t/(2\\eta))-1)-{\\rm sech}^2(\\kappa t/(2\\eta))\\left(\\kappa^2+\\eta^2(4g_p^2+\\kappa^2)-2\\eta\\kappa^2\\tanh(\\kappa t/(2\\eta)) \\right)\\right)^{1/2}}.\n",
    "\\end{align}"
   ]
  },
  {
   "cell_type": "code",
   "execution_count": 5,
   "metadata": {},
   "outputs": [],
   "source": [
    "def gt(t, κ=2 * π * 20e-3, η=6.76, g_p=2 * π * 25e-3):\n",
    "    return (\n",
    "        ((1 / np.cosh(κ * t / (2 * η))) ** 3)\n",
    "        * (\n",
    "            4 * g_p**2 * η**2\n",
    "            - 3 * κ**2\n",
    "            + (4 * g_p**2 * η**2 + κ**2) * np.cosh(κ * t / η)\n",
    "            - η * κ**2 * np.sinh(κ * t / η)\n",
    "        )\n",
    "    ) / (\n",
    "        4\n",
    "        * η\n",
    "        * (\n",
    "            κ**2 * ((1 / np.cosh(κ * t / (2 * η))) ** 4)\n",
    "            - 8 * g_p**2 * η**3 * (np.tanh(κ * t / (2 * η)) - 1)\n",
    "            - ((1 / np.cosh(κ * t / (2 * η))) ** 2)\n",
    "            * (\n",
    "                κ**2\n",
    "                + η**2 * (4 * g_p**2 + κ**2)\n",
    "                - 2 * η * κ**2 * np.tanh(κ * t / (2 * η))\n",
    "            )\n",
    "        )\n",
    "        ** 0.5\n",
    "    )\n"
   ]
  },
  {
   "cell_type": "markdown",
   "metadata": {},
   "source": [
    "### Comparison"
   ]
  },
  {
   "cell_type": "markdown",
   "metadata": {},
   "source": [
    "The controls differ: when the cavity is directly connected to the waveguide, the qubit-cavity coupling canbe switched off at the end of the photon generation process. If there is a Purcell filter, this is not the case. This is best seen in the following plot."
   ]
  },
  {
   "cell_type": "code",
   "execution_count": 6,
   "metadata": {},
   "outputs": [],
   "source": [
    "fig, (ax) = plt.subplots(nrows=1, figsize=(8,6), sharex=True)\n",
    "κ_eff = 2*π*130e-3/6.76\n",
    "t = np.linspace(-30/κ_eff, 30/κ_eff, 1000)\n",
    "ax.plot(t*κ_eff, gt_sech(t)/κ_eff, label='simple')\n",
    "ax.plot(t*κ_eff, gt(t, κ = 2*π*130e-3)/κ_eff, label='Purcell')\n",
    "ax.set_xlabel('t * $\\kappa_{eff}$')\n",
    "ax.set_ylabel('$gt / \\kappa_{eff}$')\n",
    "ax.legend()\n",
    "fig.savefig('figures/fig-02-001.svg')"
   ]
  },
  {
   "cell_type": "markdown",
   "metadata": {},
   "source": [
    "![Fig. 1](./figures/fig-02-001.svg)"
   ]
  },
  {
   "cell_type": "markdown",
   "metadata": {},
   "source": [
    "## State transfer experiment"
   ]
  },
  {
   "cell_type": "markdown",
   "metadata": {},
   "source": [
    "We now repeat the state-transfer theory from [Guillermo F. Peñas et al (2021)](https://journals.aps.org/prapplied/abstract/10.1103/PhysRevApplied.17.054038), but simulating a setup in which we have two qubits and two cavities at the sides of the quantum link, but the cavities join the link via two Purcell filters. Our simulation is based on a relatively flexible function, that allows for different controls `gt`, slowing down of the controls via an enlarging factor `η`, varying the setup dimensions, frequencies, etc."
   ]
  },
  {
   "cell_type": "code",
   "execution_count": 7,
   "metadata": {},
   "outputs": [],
   "source": [
    "def state_transfer(\n",
    "    improved_control=False,\n",
    "    lamb_shift=1,\n",
    "    δ_qubit=2 * π * 8.40701933547913,\n",
    "    ω_cavity=2 * π * 8.40701933547913,\n",
    "    ω_filter=2 * π * 8.40701933547913,\n",
    "    g_p=2 * π * 25e-3,\n",
    "    kappa=2 * π * 20e-3,\n",
    "    η=1,\n",
    "    pulse_size=10,\n",
    "    steps=3000,\n",
    "    length=30,\n",
    "    modes=2101,\n",
    "    tdelay=None,\n",
    "    quiet=False,\n",
    "    filename=None,\n",
    "):\n",
    "\n",
    "    link = Waveguide(frequency=ω_cavity + lamb_shift, modes=modes, length=length)\n",
    "\n",
    "    if tdelay is None:\n",
    "        # separation between protocol g_1(t) and g_2(t) /time reversed.\n",
    "        tdelay = link.tprop\n",
    "\n",
    "    duration = tdelay + 2 * pulse_size * (η / kappa)\n",
    "    time = np.linspace(-duration / 2, duration / 2, steps)\n",
    "\n",
    "    if improved_control:\n",
    "\n",
    "        def control(t):\n",
    "            return gt(t, κ=kappa, η=η, g_p=g_p)\n",
    "\n",
    "    else:\n",
    "        κ_eff = 4 * g_p**2 / kappa\n",
    "\n",
    "        def control(t):\n",
    "            return gt_sech(t, κ=κ_eff)\n",
    "\n",
    "    setup = Exp_2qubits_2cavities_2purcells(\n",
    "        δ1=δ_qubit,\n",
    "        δ2=δ_qubit,\n",
    "        ω1=ω_cavity,\n",
    "        ω2=ω_cavity,\n",
    "        ωp1=ω_filter,\n",
    "        ωp2=ω_filter,\n",
    "        g1=lambda t: control(t + tdelay / 2),\n",
    "        g2=lambda t: control(tdelay / 2 - t),\n",
    "        gp1=g_p,\n",
    "        gp2=g_p,\n",
    "        κ1=kappa,\n",
    "        κ2=kappa,\n",
    "        δLamb=lamb_shift,\n",
    "        waveguide=link,\n",
    "    )\n",
    "\n",
    "    if not quiet:\n",
    "        print(\"Lamb_shift=\", setup.E[0] - setup.δ1)\n",
    "        print(\"Frequency of qubit 1=\", setup.E[0])\n",
    "        print(f\"Initial value g_1(-tf) = (2π)*{setup.g1(time[0]-tdelay/2)/2/π*1e3}MHz\")\n",
    "        print(f\"kappa = (2π) {kappa / 2 / π * 1e3} MHz\")\n",
    "        print(f\"η = {η}\")\n",
    "        print(f\"g_p = (2π) {g_p / 2 / π * 1e3} MHz\")\n",
    "        print(f\"Total time = {duration/link.tprop} x Propagation_time\")\n",
    "\n",
    "    vt = Trotter_solver_dynamics(time, setup.excited_qubit(which=0), setup.Hamiltonian)\n",
    "    P = setup.mode_occupations(vt)\n",
    "    Pwaveguide = np.sum(P[setup.waveguide_indices, :], 0)\n",
    "    if not quiet:\n",
    "        print(\n",
    "            f\"|q_1(tf)|^2 = {P[0,-1]}\\n\"\n",
    "            f\"|c_1(tf)|^2 = {P[2,-1]}\\n\"\n",
    "            f\"|filter_1(tf)|^2 = {P[4,-1]}\\n\"\n",
    "            f\"|wv(tf)|^2  = {Pwaveguide[-1]} (max = {max(Pwaveguide)})\\n\"\n",
    "            f\"|filter_2(tf)|^2 = {P[5,-1]}\\n\"\n",
    "            f\"|c_2(tf)|^2 = {P[3,-1]}\\n\"\n",
    "            f\"|q_2(tf)|^2 = {P[1,-1]}\\n\"\n",
    "            f\" 1-F        = {1-P[1,-1]}\"\n",
    "        )\n",
    "    if filename:\n",
    "        fig, (ax, axc) = plt.subplots(nrows=2, figsize=(10, 8), sharex=True)\n",
    "        ax.plot(time * kappa, P[setup.qubit_indices[0], :], label=\"qubit 1\")\n",
    "        ax.plot(time * kappa, P[setup.cavity_indices[0], :], \"--\", label=\"cavity 1\")\n",
    "        ax.plot(time * kappa, P[setup.filter_indices[0], :], \"--\", label=\"Purcell 1\")\n",
    "\n",
    "        ax.plot(time * kappa, Pwaveguide, \"-.\", label=\"waveguide\")\n",
    "\n",
    "        ax.plot(time * kappa, P[setup.filter_indices[1], :], \"--\", label=\"Purcell 2\")\n",
    "        ax.plot(time * kappa, P[setup.cavity_indices[1], :], \"--\", label=\"cavity 2\")\n",
    "        ax.plot(time * kappa, P[setup.qubit_indices[1], :], label=\"qubit 2\")\n",
    "\n",
    "        ax.legend(fontsize=16)\n",
    "        ax.set_title(\n",
    "            f\"$l={length}\\,m,\\,\"\n",
    "            r\"\\omega=2\\pi\\times\"\n",
    "            f\"{setup.ω1/(2*π)}\"\n",
    "            r\"\\,\\mathrm{GHz},\\,\\kappa_filter=2\\pi\\times\"\n",
    "            f\"{np.round(kappa/(2e-3*π))}\"\n",
    "            r\"\\,\\mathrm{MHz},\\,\\kappa_{eff}=\"\n",
    "            f\"{np.round(kappa/(2e-3*π)/η,3)}$\",\n",
    "            fontsize=16,\n",
    "        )\n",
    "        axc.plot(time * kappa, setup.g1(time) / kappa / η, label=r\"$g_1(t)/\\kappa_1$\")\n",
    "        axc.plot(time * kappa, setup.g2(time) / kappa / η, label=r\"$g_2(t)/\\kappa_2$\")\n",
    "        axc.set_xlabel(r\"$t\\kappa_1$\")\n",
    "        axc.set_ylabel(r\"$g_i(t)/\\kappa_i$\")\n",
    "        axc.legend(fontsize=16)\n",
    "        fig.tight_layout()\n",
    "        fig.savefig(filename)\n",
    "\n",
    "    timeres = time / link.tprop\n",
    "    q1end = P[setup.qubit_indices[0], -1]\n",
    "    q2end = P[setup.qubit_indices[0], -1]\n",
    "    return q2end, q1end, vt, duration, time, timeres, link.frequencies\n"
   ]
  },
  {
   "cell_type": "markdown",
   "metadata": {},
   "source": [
    "## Comparison plots"
   ]
  },
  {
   "cell_type": "code",
   "execution_count": 8,
   "metadata": {
    "scrolled": true,
    "tags": []
   },
   "outputs": [
    {
     "name": "stdout",
     "output_type": "stream",
     "text": [
      "Lamb_shift= 0.002767051349110261\n",
      "Frequency of qubit 1= 52.82562741720627\n",
      "Initial value g_1(-tf) = (2π)*0.0010346975532944597MHz\n",
      "kappa = (2π) 130.0 MHz\n",
      "η = 6.76\n",
      "g_p = (2π) 25.0 MHz\n",
      "Total time = 2.035162895299994 x Propagation_time\n",
      "|q_1(tf)|^2 = 6.522227499278327e-05\n",
      "|c_1(tf)|^2 = 1.3054623283892215e-08\n",
      "|filter_1(tf)|^2 = 6.26772187737567e-08\n",
      "|wv(tf)|^2  = 0.00466717422996842 (max = 0.9999246704673552)\n",
      "|filter_2(tf)|^2 = 1.382006067649532e-05\n",
      "|c_2(tf)|^2 = 8.340064959590051e-06\n",
      "|q_2(tf)|^2 = 0.9952453676372466\n",
      " 1-F        = 0.004754632362753419\n"
     ]
    }
   ],
   "source": [
    "state_transfer(\n",
    "    improved_control=False,\n",
    "    lamb_shift=(0.0229) * (2 * π) * 19.231e-3,\n",
    "    δ_qubit=2 * π * 8.40701933547913,\n",
    "    ω_cavity=2 * π * 8.40701933547913,\n",
    "    ω_filter=2 * π * 8.40701933547913,\n",
    "    g_p=2 * π * 25e-3,\n",
    "    kappa=2 * π * 130e-3,\n",
    "    η=6.76,\n",
    "    pulse_size=10,\n",
    "    steps=3000,\n",
    "    length=30,\n",
    "    modes=2101,\n",
    "    quiet=False,\n",
    "    filename='./figures/fig-02-002.svg',\n",
    ");\n"
   ]
  },
  {
   "cell_type": "markdown",
   "metadata": {},
   "source": [
    "The plot below shows the populations of the qubits, cavity and waveguide modes, running the original 'sech' protocol. Note how initially the qubit 1 is excited and it progressively transfers its population to the cavity. The photon then leaks from the cavity into the waveguide, and is absorbed by the second cavity and ultimately transferred to the second qubit."
   ]
  },
  {
   "cell_type": "markdown",
   "metadata": {},
   "source": [
    "![Fig. 2](./figures/fig-02-002.svg)"
   ]
  },
  {
   "cell_type": "code",
   "execution_count": 9,
   "metadata": {
    "scrolled": true,
    "tags": []
   },
   "outputs": [
    {
     "name": "stdout",
     "output_type": "stream",
     "text": [
      "Lamb_shift= 0.002767051349110261\n",
      "Frequency of qubit 1= 52.82562741720627\n",
      "Initial value g_1(-tf) = (2π)*0.0011112284366120335MHz\n",
      "kappa = (2π) 130.0 MHz\n",
      "η = 6.76\n",
      "g_p = (2π) 25.0 MHz\n",
      "Total time = 2.035162895299994 x Propagation_time\n",
      "|q_1(tf)|^2 = 4.5796986634352227e-07\n",
      "|c_1(tf)|^2 = 8.84820394792789e-08\n",
      "|filter_1(tf)|^2 = 6.309576706322417e-08\n",
      "|wv(tf)|^2  = 0.0002541015515988493 (max = 0.9999306556058178)\n",
      "|filter_2(tf)|^2 = 6.106032359152791e-06\n",
      "|c_2(tf)|^2 = 8.014267107082724e-05\n",
      "|q_2(tf)|^2 = 0.9996590401969907\n",
      " 1-F        = 0.00034095980300929973\n"
     ]
    }
   ],
   "source": [
    "state_transfer(\n",
    "    improved_control=True,\n",
    "    lamb_shift=(0.0229) * (2 * π) * 19.231e-3,\n",
    "    δ_qubit=2 * π * 8.40701933547913,\n",
    "    ω_cavity=2 * π * 8.40701933547913,\n",
    "    ω_filter=2 * π * 8.40701933547913,\n",
    "    g_p=2 * π * 25e-3,\n",
    "    kappa=2 * π * 130e-3,\n",
    "    η=6.76,\n",
    "    pulse_size=10,\n",
    "    steps=3000,\n",
    "    length=30,\n",
    "    modes=2101,\n",
    "    quiet=False,\n",
    "    filename='./figures/fig-02-003.svg',\n",
    ");\n"
   ]
  },
  {
   "cell_type": "markdown",
   "metadata": {},
   "source": [
    "The plots change in a subtle way when we use the new control. The population exchange looks similar, but the excitation of the second qubit is more complete, as evidenced by the one order of magnitude decrease of the fidelity. Also, the controls are different, as shown above.\n",
    "\n",
    "![Fig. 3](./figures/fig-02-003.svg)"
   ]
  },
  {
   "cell_type": "markdown",
   "metadata": {
    "tags": []
   },
   "source": [
    "## Systematic computations"
   ]
  },
  {
   "cell_type": "markdown",
   "metadata": {},
   "source": [
    "In the following simulations we compute the fidelity for increasing pulse durations (i.e. truncating each time further away on the tails of the distribution) and plot the results for the two controls. As shown in the plot, the control that takes into account the Purcell filter improves several orders of magnitude the fidelity."
   ]
  },
  {
   "cell_type": "code",
   "execution_count": 10,
   "metadata": {
    "scrolled": true,
    "tags": []
   },
   "outputs": [],
   "source": [
    "q2end = [[],[]]\n",
    "for run in [0,1]:\n",
    "    Protocol_time = []\n",
    "    for i in np.linspace(1, 16, 15):\n",
    "        q2end_i, _, _, Protocol_time_i, _, _, _ = state_transfer(\n",
    "            improved_control=(run == 1),\n",
    "            lamb_shift=(0.0229) * (2 * π) * 19.231e-3,\n",
    "            δ_qubit=2 * π * 8.40701933547913,\n",
    "            ω_cavity=2 * π * 8.40701933547913,\n",
    "            ω_filter=2 * π * 8.40701933547913,\n",
    "            g_p=2 * π * 25e-3,\n",
    "            kappa=2 * π * 130e-3,\n",
    "            η=6.76,\n",
    "            pulse_size=i,\n",
    "            steps=3000,\n",
    "            length=30,\n",
    "            modes=2101,\n",
    "            quiet=True,\n",
    "            filename=None,\n",
    "        )\n",
    "        q2end[run].append(q2end_i)\n",
    "        Protocol_time.append(Protocol_time_i)\n"
   ]
  },
  {
   "cell_type": "code",
   "execution_count": 11,
   "metadata": {},
   "outputs": [],
   "source": [
    "fig, (ax) = plt.subplots(nrows=1, figsize=(8,4))\n",
    "ax.plot(np.array(Protocol_time), 1-np.array(q2end[0]), label = 'Sech control')\n",
    "ax.plot(np.array(Protocol_time), 1-np.array(q2end[1]), label = 'Exact control')\n",
    "\n",
    "ax.semilogy()\n",
    "ax.axhline(y=1.2e-5, linestyle = ':')\n",
    "ax.legend()\n",
    "ax.set_xlabel('$t(ns)$')\n",
    "ax.set_ylabel('$1-Q2(T)$')\n",
    "fig.tight_layout()\n",
    "\n",
    "fig.savefig('./figures/fig-02-004.svg')"
   ]
  },
  {
   "cell_type": "markdown",
   "metadata": {},
   "source": [
    "The plot below shows the errors in the state transfer, measured by the different between the second qubit having 100% occupation and the outcome of the simulation.\n",
    "\n",
    "![Fig. 4](./figures/fig-02-004.svg)"
   ]
  }
 ],
 "metadata": {
  "kernelspec": {
   "display_name": "Python 3.10.4 ('superqulan')",
   "language": "python",
   "name": "python3"
  },
  "language_info": {
   "codemirror_mode": {
    "name": "ipython",
    "version": 3
   },
   "file_extension": ".py",
   "mimetype": "text/x-python",
   "name": "python",
   "nbconvert_exporter": "python",
   "pygments_lexer": "ipython3",
   "version": "3.10.5"
  },
  "vscode": {
   "interpreter": {
    "hash": "ab4fd9f0cc476fe457106b78cd9b292a234ef21cd647c2f71388e72c6c628573"
   }
  }
 },
 "nbformat": 4,
 "nbformat_minor": 4
}
