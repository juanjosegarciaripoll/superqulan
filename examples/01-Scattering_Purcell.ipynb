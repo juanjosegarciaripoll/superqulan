{
 "cells": [
  {
   "cell_type": "markdown",
   "metadata": {},
   "source": [
    "# Purcell filter scattering"
   ]
  },
  {
   "cell_type": "markdown",
   "metadata": {},
   "source": [
    "This notebook creates a generalized version of Fig. 4b in [Guillermo F. Peñas et al (2021)](https://journals.aps.org/prapplied/abstract/10.1103/PhysRevApplied.17.054038). In that work, Fig. 4b describes the phase shift experienced by a single photon in a quantum link, when scattered by the terminating cavity at the end of the link.\n",
    "\n",
    "In this notebook, we generalize the setup, considering that said cavity cavity that is separated from the quantum link by a Purcell filter. The presence of the filter and its coupling with the cavity creates two effective resonances that can be reproduced by a simulation of the scattering process.\n",
    "\n",
    "The notebook illustrates the following aspects from the library:\n",
    "\n",
    "1. Creation of a model class that describes the ETH setup with two cavities, two Purcell filters and two qubits.\n",
    "2. Creation of initial conditions for the simulation, with a single, broadband photon, and unexcited qubits.\n",
    "3. Trivial evolution of the whole system with an efficient solver when the controls are time-independent.\n",
    "4. Extraction of information from the single photon wavepacket."
   ]
  },
  {
   "cell_type": "markdown",
   "metadata": {},
   "source": [
    "## Setup"
   ]
  },
  {
   "cell_type": "markdown",
   "metadata": {},
   "source": [
    "While the SuperQuLAN library can be installed, this notebook only assumes that it resides inside the `examples` folder and that the library is located under `../superqulan`."
   ]
  },
  {
   "cell_type": "code",
   "execution_count": 1,
   "metadata": {},
   "outputs": [],
   "source": [
    "import sys\n",
    "if \"../\" not in sys.path:\n",
    "    sys.path = [\"../\"] + sys.path"
   ]
  },
  {
   "cell_type": "code",
   "execution_count": 2,
   "metadata": {},
   "outputs": [],
   "source": [
    "import numpy as np \n",
    "from numpy import floor, sqrt\n",
    "import scipy.sparse.linalg\n",
    "from math import pi as π\n",
    "import scipy.sparse as sp\n",
    "from superqulan.waveguide import Waveguide\n",
    "from superqulan.architecture import Setup, Exp_2qubits_2cavities_2purcells"
   ]
  },
  {
   "cell_type": "markdown",
   "metadata": {},
   "source": [
    "We configure Matplotlib to not show figures. We will inline them to avoid generating too much noise in GitHub."
   ]
  },
  {
   "cell_type": "code",
   "execution_count": 3,
   "metadata": {},
   "outputs": [],
   "source": [
    "import matplotlib\n",
    "import matplotlib.pyplot as plt\n",
    "matplotlib.use('agg')\n",
    "plt.rc('font', size=20)"
   ]
  },
  {
   "cell_type": "markdown",
   "metadata": {
    "tags": []
   },
   "source": [
    "## Uniform photon"
   ]
  },
  {
   "cell_type": "markdown",
   "metadata": {},
   "source": [
    "We perform the spectroscopy of photon-qubit interaction by creating a uniform wavepacket that contains all the $N_k$ frequencies that we want to model\n",
    "$$\n",
    "|\\psi\\rangle = \\sum_{n=0}^{N_k-1} \\frac{1}{\\sqrt{N_k}} a^\\dagger_{k_n}|\\text{vac}\\rangle\n",
    "$$\n",
    "This is achieved using the `Setup` class' tools for constructing wavefunctions."
   ]
  },
  {
   "cell_type": "code",
   "execution_count": 4,
   "metadata": {},
   "outputs": [],
   "source": [
    "def step_photon(setup: Setup) -> np.ndarray: \n",
    "    \"\"\"Creates a flat photon, that is, an equiprobable distribution of all the modes \n",
    "    of the waveguide.\n",
    "\n",
    "    Args:\n",
    "        mmax (int): number of modes in the WG.\n",
    "\n",
    "    Returns:\n",
    "        photon (np.ndarray)\n",
    "    \"\"\"\n",
    "    N = setup.waveguide.modes\n",
    "    wavefunction = np.ones(N) / np.sqrt(N)\n",
    "    return setup.waveguide_photon(wavefunction)"
   ]
  },
  {
   "cell_type": "markdown",
   "metadata": {},
   "source": [
    "## Scattering experiment"
   ]
  },
  {
   "cell_type": "markdown",
   "metadata": {},
   "source": [
    "The simulation is relatively straightforward: we create a photon in a realistic setup, which is studied in the single-excitation limit. We create a setup that consists of two uncoupled qubits, and only one cavity coupled to the waveguide via a Purcell filter.\n",
    "\n",
    "We evolve the initial wavefunction with the broad photon for a total time equal to the propagation time of the waveguide. Note that since the collision is energy conserving, the amplitudes of the different photons are more or less conserved (the Purcell filter and cavity had time to relax) and the only effect is a phase shift that we may compute."
   ]
  },
  {
   "cell_type": "code",
   "execution_count": 5,
   "metadata": {},
   "outputs": [],
   "source": [
    "def flat_photon_scattering(\n",
    "    ω_cavity=2 * π * 8.40701933547913,\n",
    "    ω_filter=2 * π * 8.40701933547913,\n",
    "    g_p=2 * π * 25e-3,\n",
    "    κ=2 * π * 130e-3,\n",
    "    length=30,\n",
    "    modes=2101,\n",
    "):\n",
    "    \"\"\"computes the scattering of a flat photon that bounces off two\n",
    "    coupled harmonic oscillators..\n",
    "\n",
    "    Args:\n",
    "        ω_cavity (double):  frequency of the cavity\n",
    "        ω_filter (double):  frequency of the filter\n",
    "        g_p (double):       cavity-filter coupling\n",
    "        κ (double):         decay-rate of the filter\n",
    "        length (double):    length of the waveguide\n",
    "        modes (int):        number of modes for the waveguide simulation\n",
    "\n",
    "    Returns:\n",
    "        frequencies:        waveguide frequencies relative to the cavity\n",
    "        phases:             phase shift experienced by each mode (in units of π rads)\n",
    "        phases_theory:      crude theory prediction for the phase shift\n",
    "    \"\"\"\n",
    "\n",
    "    # We create a setup with given parameters:\n",
    "    setup = Exp_2qubits_2cavities_2purcells(\n",
    "        # two identical cavities\n",
    "        ω1=ω_cavity,  \n",
    "        ω2=ω_cavity,\n",
    "        # two identical filters\n",
    "        ωp1=ω_filter,  \n",
    "        ωp2=ω_filter,\n",
    "        # two disconnected qubits that do not participate in the dynamics\n",
    "        g1=0,  \n",
    "        g2=0,\n",
    "        # only the second cavity is coupled to the filter\n",
    "        gp1=0,  \n",
    "        gp2=g_p,\n",
    "        # only the second filter is coupled to the waveguide\n",
    "        κ1=0,  \n",
    "        κ2=κ,\n",
    "        # The waveguide has a fixed length, but we only study a\n",
    "        # fixed number of modes around the cavity frequency\n",
    "        waveguide=Waveguide(frequency=ω_cavity, modes=modes, length=length),\n",
    "    )\n",
    "    frequencies = setup.waveguide.frequencies\n",
    "\n",
    "    duration = 2 * setup.waveguide.tprop\n",
    "\n",
    "    v0 = step_photon(setup)\n",
    "\n",
    "    vt = scipy.sparse.linalg.expm_multiply(-1j * duration * setup.Hamiltonian(), v0)\n",
    "    vt = vt[setup.waveguide_indices]\n",
    "    v0 = v0[setup.waveguide_indices]\n",
    "\n",
    "    phases = np.angle(v0 * vt * np.exp(1j * frequencies * duration)) / π\n",
    "\n",
    "    ω_difference = frequencies - ω_cavity\n",
    "    phases_theory = np.real(\n",
    "        -1j\n",
    "        * np.log(\n",
    "            ((1j * (ω_difference + g_p) + (κ / 4)))\n",
    "            / (1j * (ω_difference + g_p) - (κ / 4))\n",
    "            * ((1j * (ω_difference - g_p) + (κ / 4)))\n",
    "            / (1j * (ω_difference - g_p) - (κ / 4))\n",
    "        )\n",
    "        / π\n",
    "    )\n",
    "    return ω_difference, phases, phases_theory\n"
   ]
  },
  {
   "cell_type": "markdown",
   "metadata": {},
   "source": [
    "## Sample plot"
   ]
  },
  {
   "cell_type": "code",
   "execution_count": 6,
   "metadata": {},
   "outputs": [],
   "source": [
    "κ1 = 2 * π * 130e-3\n",
    "g_p = 2 * π * 25e-3\n",
    "\n",
    "ω_difference, phases, phases_theory = flat_photon_scattering(g_p=g_p, modes=500)\n"
   ]
  },
  {
   "cell_type": "code",
   "execution_count": 7,
   "metadata": {},
   "outputs": [],
   "source": [
    "fig, (ax1) = plt.subplots(nrows=1, ncols=1, figsize=(13, 6), constrained_layout=True)\n",
    "ax1.scatter(ω_difference/κ1, phases, s=20, color=\"tab:blue\", label=\"Simulation\")\n",
    "ax1.plot(ω_difference/κ1, phases_theory, color=\"tab:orange\", label=\"theory\")\n",
    "ax1.set_xlabel(r\"$(\\omega - \\Omega_{R_2})/\\kappa$\")\n",
    "ax1.set_ylabel(r\"$\\phi/\\pi$\")\n",
    "ax1.set_xlim([-3,3])\n",
    "ax1.legend()\n",
    "fig.savefig('figures/fig-01-001.svg');\n"
   ]
  },
  {
   "cell_type": "markdown",
   "metadata": {},
   "source": [
    "![Fig. 1](./figures/fig-01-001.svg)"
   ]
  }
 ],
 "metadata": {
  "kernelspec": {
   "display_name": "Python 3.10.4 ('superqulan')",
   "language": "python",
   "name": "python3"
  },
  "language_info": {
   "codemirror_mode": {
    "name": "ipython",
    "version": 3
   },
   "file_extension": ".py",
   "mimetype": "text/x-python",
   "name": "python",
   "nbconvert_exporter": "python",
   "pygments_lexer": "ipython3",
   "version": "3.10.4"
  },
  "vscode": {
   "interpreter": {
    "hash": "ab4fd9f0cc476fe457106b78cd9b292a234ef21cd647c2f71388e72c6c628573"
   }
  }
 },
 "nbformat": 4,
 "nbformat_minor": 4
}
